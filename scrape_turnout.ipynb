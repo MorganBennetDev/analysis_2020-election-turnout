{
 "cells": [
  {
   "cell_type": "markdown",
   "metadata": {},
   "source": [
    "Turnout data source: https://earlyvoting.texas-election.com/Elections/"
   ]
  },
  {
   "cell_type": "code",
   "execution_count": null,
   "metadata": {},
   "outputs": [],
   "source": [
    "from urllib import request, parse\n",
    "import os\n",
    "import sys\n",
    "from datetime import datetime\n",
    "from functools import partial\n",
    "from collections import defaultdict\n",
    "import time\n",
    "from datetime import datetime\n",
    "import re\n",
    "import zipfile\n",
    "# from multiprocessing import Pool\n",
    "\n",
    "import pandas as pd\n",
    "import matplotlib as mpl\n",
    "import numpy as np\n",
    "from bs4 import BeautifulSoup\n",
    "\n",
    "pd.set_option('display.max_columns', None)\n",
    "os.chdir(sys.path[0])"
   ]
  },
  {
   "cell_type": "code",
   "execution_count": null,
   "metadata": {},
   "outputs": [],
   "source": [
    "os.makedirs('data/results', exist_ok = True)"
   ]
  },
  {
   "cell_type": "code",
   "execution_count": null,
   "metadata": {},
   "outputs": [],
   "source": [
    "opener = request.URLopener()\n",
    "\n",
    "opener.addheader('User-Agent', 'Mozilla/5.0 (Macintosh; Intel Mac OS X 10_15_7) AppleWebKit/537.36 (KHTML, like Gecko) Chrome/104.0.5112.79 Safari/537.36')"
   ]
  },
  {
   "cell_type": "code",
   "execution_count": null,
   "metadata": {},
   "outputs": [],
   "source": [
    "main_page = BeautifulSoup(opener.open('https://earlyvoting.texas-election.com/Elections/getElectionDetails.do').read().decode('utf-8'), 'html.parser')"
   ]
  },
  {
   "cell_type": "code",
   "execution_count": null,
   "metadata": {},
   "outputs": [],
   "source": [
    "ev_options = main_page.find(id = 'idElection').find_all('option')\n",
    "\n",
    "elections = {}\n",
    "\n",
    "for option in ev_options:\n",
    "    if len(option['value']) > 0:\n",
    "        elections[option['value']] = option.contents[0].strip()"
   ]
  },
  {
   "cell_type": "code",
   "execution_count": null,
   "metadata": {},
   "outputs": [],
   "source": [
    "def retrieve_dates(id):\n",
    "    print(f'Downloading election dates (id={id})')\n",
    "    url = f'https://earlyvoting.texas-election.com/Elections/getElectionEVDates.do?idElection={id}&results=&elecDateName=&cdElectionType='\n",
    "\n",
    "    dates_page = BeautifulSoup(opener.open(url).read().decode('utf-8'), 'html.parser')\n",
    "\n",
    "    ev_options = dates_page.find(id = 'selectedDate').find_all('option')\n",
    "\n",
    "    ev_dates = [ option['value'] for option in ev_options if len(option['value']) > 0 ]\n",
    "\n",
    "    ed_options = dates_page.find(id = 'electionDate').find_all('option')\n",
    "\n",
    "    ed_dates = [ option['value'] for option in ed_options if len(option['value']) > 0 ]\n",
    "\n",
    "    return {\n",
    "        'early_voting_dates': ev_dates,\n",
    "        'election_dates': ed_dates\n",
    "    }"
   ]
  },
  {
   "cell_type": "code",
   "execution_count": null,
   "metadata": {},
   "outputs": [],
   "source": [
    "def retrieve_ev_details(id, date, output_dir):\n",
    "    print(f'Downloading early voting details for {output_dir} on {date}')\n",
    "    url = f'https://earlyvoting.texas-election.com/Elections/downloadVoterInfoReport.do?idElection={id}&selectedDate={date}&electionDate=&earlyVoteFlag=true&downloadElectionFileCSVFlag=false&idTown='\n",
    "\n",
    "    opener.retrieve(url, os.path.join('data', 'results', output_dir, f'ev_{id}_{str(datetime.fromisoformat(date).date())}.csv'))"
   ]
  },
  {
   "cell_type": "code",
   "execution_count": null,
   "metadata": {},
   "outputs": [],
   "source": [
    "def retrieve_ed_details(id, date, output_dir):\n",
    "    print(f'Downloading election day details for {output_dir} on {date}')\n",
    "    url = f'https://earlyvoting.texas-election.com/Elections/downloadParticipationCountReport.do?idElection={id}&selectedDate={date}&electionDate={date}&earlyVoteFlag=false&downloadElectionFileCSVFlag=false&idTown='\n",
    "\n",
    "    opener.retrieve(url, os.path.join('data', 'results', output_dir, f'ed_{id}_{str(datetime.fromisoformat(date).date())}.zip'))"
   ]
  },
  {
   "cell_type": "code",
   "execution_count": null,
   "metadata": {},
   "outputs": [],
   "source": [
    "for election_id, election_name in elections.items():\n",
    "    print(f'Scraping election {election_name}')\n",
    "    os.makedirs(os.path.join('data', 'results', election_name), exist_ok = True)\n",
    "\n",
    "    election_dates = retrieve_dates(election_id)\n",
    "\n",
    "    ev_dates = election_dates['early_voting_dates']\n",
    "    ed_dates = election_dates['election_dates']\n",
    "\n",
    "    for ev_date in ev_dates:\n",
    "        retrieve_ev_details(election_id, ev_date, election_name)\n",
    "    \n",
    "    for ed_date in ed_dates:\n",
    "        retrieve_ed_details(election_id, ed_date, election_name)"
   ]
  },
  {
   "cell_type": "code",
   "execution_count": null,
   "metadata": {},
   "outputs": [],
   "source": [
    "for election_id, election_name in elections.items():\n",
    "    file_names = os.listdir(os.path.join('data', 'results', election_name))\n",
    "\n",
    "    for file_name in file_names:\n",
    "        path, ext = os.path.splitext(file_name)\n",
    "        \n",
    "        if ext != '.zip':\n",
    "            with open(os.path.join('data', 'results', election_name, file_name)) as f:\n",
    "                if '<!doctype html>' in f.read():\n",
    "                    f.close()\n",
    "                    os.remove(os.path.join('data', 'results', election_name, file_name))"
   ]
  },
  {
   "cell_type": "code",
   "execution_count": null,
   "metadata": {},
   "outputs": [],
   "source": [
    "date_re = re.compile(r'[0-9][0-9][0-9][0-9]\\-[0-9][0-9]\\-[0-9][0-9]')\n",
    "id_re = re.compile(r'[0-9][0-9][0-9][0-9][0-9]')\n",
    "\n",
    "ev_dfs = []\n",
    "ed_dfs = []\n",
    "\n",
    "for election_id, election_name in elections.items():\n",
    "    file_names = os.listdir(os.path.join('data', 'results', election_name))\n",
    "\n",
    "    sub_ev_dfs = []\n",
    "\n",
    "    for file_name in file_names:\n",
    "        path, ext = os.path.splitext(file_name)\n",
    "        \n",
    "        if ext == '.zip':\n",
    "            date = re.search(date_re, file_name)\n",
    "        \n",
    "            if date is not None:\n",
    "                date = date.group(0)\n",
    "                id = re.search(id_re, file_name).group(0)\n",
    "                try:\n",
    "                    with zipfile.ZipFile(os.path.join('data', 'results', election_name, file_name), 'r') as z:\n",
    "                        with z.open(f'{id}VOTER_STATE.csv') as f:\n",
    "                            from io import StringIO\n",
    "\n",
    "                            df = pd.read_csv(StringIO(f.read().decode('utf-8')))\n",
    "\n",
    "                            df['date'] = date\n",
    "                            df['election_id'] = election_id\n",
    "                            df['election_name'] = election_name\n",
    "\n",
    "                            df.to_csv(os.path.join('data', 'results', election_name, 'ed.csv'))\n",
    "                            ed_dfs.append(df)\n",
    "                except:\n",
    "                    print(f'Error reading {file_name} for {election_name}')\n",
    "        else:\n",
    "            date = re.search(date_re, file_name)\n",
    "\n",
    "            if date is not None:\n",
    "                df = pd.read_csv(os.path.join('data', 'results', election_name, file_name))\n",
    "\n",
    "                df['date'] = date.group(0)\n",
    "\n",
    "                sub_ev_dfs.append(df)\n",
    "    \n",
    "    if len(sub_ev_dfs) > 0:\n",
    "        election_df = pd.concat(sub_ev_dfs)\n",
    "        \n",
    "        election_df['election_id'] = election_id\n",
    "        election_df['election_name'] = election_name\n",
    "\n",
    "        ev_dfs.append(election_df)\n",
    "\n",
    "        election_df.to_csv(os.path.join('data', 'results', election_name, 'ev.csv'), index = False)\n",
    "\n",
    "ev_df = pd.concat(ev_dfs)\n",
    "ed_df = pd.concat(ed_dfs)"
   ]
  },
  {
   "cell_type": "code",
   "execution_count": null,
   "metadata": {},
   "outputs": [],
   "source": [
    "ev_df.to_csv(os.path.join('data', 'results', 'early_voting.csv'))\n",
    "ed_df.to_csv(os.path.join('data', 'results', 'election_day.csv'))"
   ]
  }
 ],
 "metadata": {
  "kernelspec": {
   "display_name": ".venv",
   "language": "python",
   "name": "python3"
  },
  "language_info": {
   "codemirror_mode": {
    "name": "ipython",
    "version": 3
   },
   "file_extension": ".py",
   "mimetype": "text/x-python",
   "name": "python",
   "nbconvert_exporter": "python",
   "pygments_lexer": "ipython3",
   "version": "3.12.2"
  }
 },
 "nbformat": 4,
 "nbformat_minor": 2
}
