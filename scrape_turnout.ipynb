{
 "cells": [
  {
   "cell_type": "markdown",
   "metadata": {},
   "source": [
    "Turnout data source: https://earlyvoting.texas-election.com/Elections/"
   ]
  },
  {
   "cell_type": "code",
   "execution_count": null,
   "metadata": {},
   "outputs": [],
   "source": [
    "from urllib import request, parse\n",
    "import os\n",
    "import sys\n",
    "from datetime import datetime\n",
    "from functools import partial\n",
    "from collections import defaultdict\n",
    "import time\n",
    "from datetime import datetime\n",
    "import re\n",
    "import zipfile\n",
    "# from multiprocessing import Pool\n",
    "\n",
    "import pandas as pd\n",
    "import matplotlib as mpl\n",
    "import numpy as np\n",
    "from bs4 import BeautifulSoup\n",
    "\n",
    "pd.set_option('display.max_columns', None)\n",
    "os.chdir(sys.path[0])"
   ]
  },
  {
   "cell_type": "code",
   "execution_count": null,
   "metadata": {},
   "outputs": [],
   "source": [
    "os.makedirs('data/results', exist_ok = True)"
   ]
  },
  {
   "cell_type": "code",
   "execution_count": null,
   "metadata": {},
   "outputs": [],
   "source": [
    "opener = request.URLopener()\n",
    "\n",
    "opener.addheader('User-Agent', 'Mozilla/5.0 (Macintosh; Intel Mac OS X 10_15_7) AppleWebKit/537.36 (KHTML, like Gecko) Chrome/104.0.5112.79 Safari/537.36')"
   ]
  },
  {
   "cell_type": "code",
   "execution_count": null,
   "metadata": {},
   "outputs": [],
   "source": [
    "main_page = BeautifulSoup(opener.open('https://earlyvoting.texas-election.com/Elections/getElectionDetails.do').read().decode('utf-8'), 'html.parser')"
   ]
  },
  {
   "cell_type": "code",
   "execution_count": null,
   "metadata": {},
   "outputs": [],
   "source": [
    "ev_options = main_page.find(id = 'idElection').find_all('option')\n",
    "\n",
    "elections = {}\n",
    "\n",
    "for option in ev_options:\n",
    "    if len(option['value']) > 0:\n",
    "        elections[option['value']] = option.contents[0].strip()"
   ]
  },
  {
   "cell_type": "code",
   "execution_count": null,
   "metadata": {},
   "outputs": [],
   "source": [
    "def retrieve_dates(id):\n",
    "    print(f'Downloading election dates (id={id})')\n",
    "    url = f'https://earlyvoting.texas-election.com/Elections/getElectionEVDates.do?idElection={id}&results=&elecDateName=&cdElectionType='\n",
    "\n",
    "    dates_page = BeautifulSoup(opener.open(url).read().decode('utf-8'), 'html.parser')\n",
    "\n",
    "    ev_options = dates_page.find(id = 'selectedDate').find_all('option')\n",
    "\n",
    "    ev_dates = [ option['value'] for option in ev_options if len(option['value']) > 0 ]\n",
    "\n",
    "    ed_options = dates_page.find(id = 'electionDate').find_all('option')\n",
    "\n",
    "    ed_dates = [ option['value'] for option in ed_options if len(option['value']) > 0 ]\n",
    "\n",
    "    return {\n",
    "        'early_voting_dates': ev_dates,\n",
    "        'election_dates': ed_dates\n",
    "    }"
   ]
  },
  {
   "cell_type": "code",
   "execution_count": null,
   "metadata": {},
   "outputs": [],
   "source": [
    "def retrieve_ev_details(id, date, output_dir):\n",
    "    print(f'Downloading early voting details for {output_dir} on {date}')\n",
    "    url = f'https://earlyvoting.texas-election.com/Elections/downloadVoterInfoReport.do?idElection={id}&selectedDate={date}&electionDate=&earlyVoteFlag=true&downloadElectionFileCSVFlag=true&idTown='\n",
    "\n",
    "    opener.retrieve(url, os.path.join('data', 'results', output_dir, f'ev_{id}_{str(datetime.fromisoformat(date).date())}.csv'))"
   ]
  },
  {
   "cell_type": "code",
   "execution_count": null,
   "metadata": {},
   "outputs": [],
   "source": [
    "ed_failures = []"
   ]
  },
  {
   "cell_type": "code",
   "execution_count": null,
   "metadata": {},
   "outputs": [],
   "source": [
    "def retrieve_ed_details(id, date, output_dir):\n",
    "    try:\n",
    "        filename = f'ed_{id}'\n",
    "        url = f'https://earlyvoting.texas-election.com/Elections/downloadParticipationCountReport.do?selectedDate=&pollPlaceIdtown=&electionDayIdTown=1&idElection={id}&idGroupedElection=&electionDate=&webPageSyncDate=true&downloadElectionFileCSVFlag=true'\n",
    "\n",
    "        if len(date) > 0:\n",
    "            filename = f'ed_{id}_{str(datetime.fromisoformat(date).date())}'\n",
    "            url = f'https://earlyvoting.texas-election.com/Elections/downloadParticipationCountReport.do?idElection={id}&selectedDate={date}&electionDate={date}&earlyVoteFlag=false&downloadElectionFileCSVFlag=true&idTown='\n",
    "\n",
    "        print(f'Downloading election day details for {output_dir} on {date}')\n",
    "        content_type = opener.open(url).info()['Content-Type']\n",
    "\n",
    "        if content_type == 'application/csv':\n",
    "            path = os.path.join('data', 'results', output_dir, f'{filename}.csv')\n",
    "            opener.retrieve(url, path)\n",
    "\n",
    "            df = pd.read_csv(path, low_memory = False)\n",
    "\n",
    "            df['date'] = date\n",
    "            df['election_id'] = id\n",
    "            df['election_name'] = output_dir\n",
    "\n",
    "            if 'COUNTY' not in df.columns:\n",
    "                df.index.rename('COUNTY', inplace = True)\n",
    "\n",
    "            df.to_csv(path)\n",
    "        else:\n",
    "            url = f'https://earlyvoting.texas-election.com/Elections/downloadParticipationCountReport.do?idElection={id}&selectedDate={date}&electionDate={date}&earlyVoteFlag=false&downloadElectionFileCSVFlag=false&idTown='\n",
    "            content_type = opener.open(url).info()['Content-Type']\n",
    "\n",
    "            if content_type == 'application/zip':\n",
    "                print(url)\n",
    "                opener.retrieve(url, os.path.join('data', 'results', output_dir, f'{filename}.zip'))\n",
    "\n",
    "                print('Extracting election day archive')\n",
    "\n",
    "                with zipfile.ZipFile(os.path.join('data', 'results', output_dir, f'{filename}.zip'), 'r') as z:\n",
    "                    from io import StringIO\n",
    "\n",
    "                    poll_places_df = None\n",
    "\n",
    "                    with z.open(f'{id}_STATE.csv') as f:\n",
    "                        poll_places_df = pd.read_csv(StringIO(f.read().decode('utf-8')))\n",
    "\n",
    "                    if 'COUNTY' in poll_places_df.columns:\n",
    "                        with z.open(f'{id}VOTER_STATE.csv') as f:\n",
    "                            df = pd.read_csv(StringIO(f.read().decode('utf-8')))\n",
    "                            \n",
    "                            mapping = {}\n",
    "                            for _, row in poll_places_df.iterrows():\n",
    "                                mapping[row['POLL PLACE ID']] = row['COUNTY']\n",
    "                            \n",
    "                            df['COUNTY'] = df['POLL PLACE ID'].replace(mapping)\n",
    "\n",
    "                            df = df.drop(columns = ['Date'])\n",
    "\n",
    "                            df['date'] = date\n",
    "                            df['election_id'] = id\n",
    "                            df['election_name'] = output_dir\n",
    "\n",
    "                            df.to_csv(os.path.join('data', 'results', output_dir, 'ed.csv'), index = False)\n",
    "                    else:\n",
    "                        poll_places_df.index.rename('COUNTY', inplace = True)\n",
    "\n",
    "                        poll_places_df['date'] = date\n",
    "                        poll_places_df['election_id'] = id\n",
    "                        poll_places_df['election_name'] = output_dir\n",
    "\n",
    "                        poll_places_df.to_csv(os.path.join('data', 'results', output_dir, 'ed.csv'))\n",
    "                        \n",
    "                \n",
    "                os.remove(os.path.join('data', 'results', output_dir, f'ed_{id}_{str(datetime.fromisoformat(date).date())}.zip'))\n",
    "            else:\n",
    "                print(f'Error retrieving election day details for {output_dir} on {date}')\n",
    "    except:\n",
    "        ed_failures.append((id, date, output_dir))\n",
    "        print(f'Error retrieving election day details for {output_dir} on {date}')"
   ]
  },
  {
   "cell_type": "code",
   "execution_count": null,
   "metadata": {},
   "outputs": [],
   "source": [
    "for election_id, election_name in elections.items():\n",
    "    print(f'Scraping election {election_name}')\n",
    "    os.makedirs(os.path.join('data', 'results', election_name), exist_ok = True)\n",
    "    election_dates = retrieve_dates(election_id)\n",
    "\n",
    "    ev_dates = election_dates['early_voting_dates']\n",
    "    ed_dates = election_dates['election_dates']\n",
    "\n",
    "    for ev_date in ev_dates:\n",
    "        retrieve_ev_details(election_id, ev_date, election_name)\n",
    "    \n",
    "    if len(ed_dates) == 0:\n",
    "        retrieve_ed_details(election_id, '', election_name)\n",
    "    else:\n",
    "        for ed_date in ed_dates:\n",
    "            retrieve_ed_details(election_id, ed_date, election_name)"
   ]
  },
  {
   "cell_type": "markdown",
   "metadata": {},
   "source": [
    "Missing data:\n",
    "* 2024 SPECIAL ELECTION SENATE DISTRICT 15 on 2024-05-04\n",
    "* 2024 SPECIAL RUNOFF ELECTION HOUSE DISTRICT 2 on 2024-01-30\n",
    "* 2023 MAY 6TH LOCAL ELECTIONS\n",
    "* 2020 SPECIAL RUNOFF ELECTION SENATE DISTRICT 14\n",
    "* 2020 SPECIAL RUNOFF ELECTION HOUSE DISTRICT 148\n",
    "* 2019 MARCH 5TH SPECIAL RUNOFF ELECTION"
   ]
  },
  {
   "cell_type": "code",
   "execution_count": null,
   "metadata": {},
   "outputs": [],
   "source": [
    "for election_id, election_name in elections.items():\n",
    "    file_names = os.listdir(os.path.join('data', 'results', election_name))\n",
    "\n",
    "    for file_name in file_names:\n",
    "        path, ext = os.path.splitext(file_name)\n",
    "        \n",
    "        if ext != '.zip':\n",
    "            with open(os.path.join('data', 'results', election_name, file_name)) as f:\n",
    "                if '<!doctype html>' in f.read():\n",
    "                    f.close()\n",
    "                    os.remove(os.path.join('data', 'results', election_name, file_name))\n",
    "                    print(os.path.join('data', 'results', election_name, file_name))"
   ]
  },
  {
   "cell_type": "code",
   "execution_count": null,
   "metadata": {},
   "outputs": [],
   "source": [
    "date_re = re.compile(r'[0-9][0-9][0-9][0-9]\\-[0-9][0-9]\\-[0-9][0-9]')\n",
    "id_re = re.compile(r'[0-9][0-9][0-9][0-9][0-9]')"
   ]
  },
  {
   "cell_type": "code",
   "execution_count": null,
   "metadata": {},
   "outputs": [],
   "source": [
    "ev_dfs = []\n",
    "ed_dfs = []\n",
    "\n",
    "for election_id, election_name in elections.items():\n",
    "    file_names = os.listdir(os.path.join('data', 'results', election_name))\n",
    "\n",
    "    sub_ev_dfs = []\n",
    "\n",
    "    for file_name in file_names:\n",
    "        path, ext = os.path.splitext(file_name)\n",
    "\n",
    "        df = pd.read_csv(os.path.join('data', 'results', election_name, file_name), low_memory = False)\n",
    "\n",
    "        if 'PRECINCT' not in df.columns:\n",
    "            print(f'No PRECINCT for {os.path.join('data', 'results', election_name, file_name)}')\n",
    "            df['PRECINCT'] = pd.NA\n",
    "\n",
    "        if file_name[0:2] == 'ed':\n",
    "            # df = pd.read_csv(os.path.join('data', 'results', election_name, file_name), nrows = 2)\n",
    "            # print(os.path.join('data', 'results', election_name, file_name))\n",
    "            # print(df.columns)\n",
    "\n",
    "            if 'ID_VOTER' in df.columns:\n",
    "                group_df = df[['COUNTY', 'PRECINCT', 'date', 'election_id', 'election_name']] \\\n",
    "                    .groupby(['COUNTY', 'PRECINCT', 'date', 'election_id', 'election_name']) \\\n",
    "                    .size().reset_index().rename(columns = {0: 'VOTER COUNT'})\n",
    "                \n",
    "                ed_dfs.append(group_df)\n",
    "            else:\n",
    "                ed_dfs.append(df[['COUNTY', 'PRECINCT', 'date', 'election_id', 'election_name', 'VOTER COUNT']])\n",
    "        else:\n",
    "            date = re.search(date_re, file_name)\n",
    "\n",
    "            if date is not None:\n",
    "                df['date'] = date.group(0)\n",
    "            else:\n",
    "                df['date'] = pd.NA\n",
    "\n",
    "            sub_ev_dfs.append(df)\n",
    "    \n",
    "    if len(sub_ev_dfs) > 0:\n",
    "        election_df = pd.concat(sub_ev_dfs)\n",
    "        \n",
    "        election_df['election_id'] = election_id\n",
    "        election_df['election_name'] = election_name\n",
    "\n",
    "        ev_dfs.append(election_df)\n",
    "\n",
    "        # election_df.to_csv(os.path.join('data', 'results', election_name, 'ev_all.csv'), index = False)"
   ]
  },
  {
   "cell_type": "code",
   "execution_count": null,
   "metadata": {},
   "outputs": [],
   "source": [
    "c = ['COUNTY', 'VOTING_METHOD', 'PRECINCT', 'date', 'election_id', 'election_name']\n",
    "\n",
    "ev_df = pd.concat(ev_dfs)[c].groupby(c).size().reset_index().rename(columns = {0: 'VOTER COUNT'})"
   ]
  },
  {
   "cell_type": "code",
   "execution_count": null,
   "metadata": {},
   "outputs": [],
   "source": [
    "ed_df = pd.concat(ed_dfs)\n",
    "ed_df.head()"
   ]
  },
  {
   "cell_type": "code",
   "execution_count": null,
   "metadata": {},
   "outputs": [],
   "source": [
    "ev_df.to_csv(os.path.join('data', 'results', 'early_voting.csv'), index = False)\n",
    "ed_df.to_csv(os.path.join('data', 'results', 'election_day.csv'), index = False)"
   ]
  },
  {
   "cell_type": "code",
   "execution_count": null,
   "metadata": {},
   "outputs": [],
   "source": []
  }
 ],
 "metadata": {
  "kernelspec": {
   "display_name": ".venv",
   "language": "python",
   "name": "python3"
  },
  "language_info": {
   "codemirror_mode": {
    "name": "ipython",
    "version": 3
   },
   "file_extension": ".py",
   "mimetype": "text/x-python",
   "name": "python",
   "nbconvert_exporter": "python",
   "pygments_lexer": "ipython3",
   "version": "3.12.2"
  }
 },
 "nbformat": 4,
 "nbformat_minor": 2
}
