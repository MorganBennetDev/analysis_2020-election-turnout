{
 "cells": [
  {
   "cell_type": "code",
   "execution_count": null,
   "metadata": {},
   "outputs": [],
   "source": [
    "from urllib import request, parse\n",
    "import os\n",
    "import sys\n",
    "from datetime import datetime\n",
    "from functools import partial\n",
    "from collections import defaultdict\n",
    "import time\n",
    "from datetime import datetime\n",
    "import re\n",
    "import zipfile\n",
    "# from multiprocessing import Pool\n",
    "\n",
    "import pandas as pd\n",
    "import matplotlib as mpl\n",
    "import numpy as np\n",
    "from bs4 import BeautifulSoup\n",
    "\n",
    "pd.set_option('display.max_columns', None)\n",
    "os.chdir(sys.path[0])"
   ]
  },
  {
   "cell_type": "code",
   "execution_count": null,
   "metadata": {},
   "outputs": [],
   "source": [
    "ev_df = pd.read_csv(os.path.join('data', 'results', 'early_voting.csv'), low_memory = False)"
   ]
  },
  {
   "cell_type": "code",
   "execution_count": null,
   "metadata": {},
   "outputs": [],
   "source": [
    "ed_df = pd.read_csv(os.path.join('data', 'results', 'election_day.csv'), low_memory = False)"
   ]
  },
  {
   "cell_type": "code",
   "execution_count": null,
   "metadata": {},
   "outputs": [],
   "source": [
    "relevant_elections = [\n",
    "    # '2024 NOVEMBER 5TH GENERAL ELECTION',\n",
    "    '2024 MARCH 5TH DEMOCRATIC PRIMARY',\n",
    "    '2024 MARCH 5TH REPUBLICAN PRIMARY',\n",
    "    # '2022 NOVEMBER 8TH GENERAL ELECTION',\n",
    "    # '2022 MAY 24TH REPUBLICAN PRIMARY RUNOFF',\n",
    "    # '2022 MAY 24TH DEMOCRATIC PRIMARY RUNOFF',\n",
    "    # '2022 MARCH 1ST REPUBLICAN PRIMARY',\n",
    "    # '2022 MARCH 1ST DEMOCRATIC PRIMARY',\n",
    "    '2020 NOVEMBER 3RD GENERAL ELECTION',\n",
    "    '2020 JULY 14TH REPUBLICAN PRIMARY RUNOFF',\n",
    "    '2020 JULY 14TH DEMOCRATIC PRIMARY RUNOFF',\n",
    "    '2020 MARCH 3RD DEMOCRATIC PRIMARY',\n",
    "    '2020 MARCH 3RD REPUBLICAN PRIMARY',\n",
    "]"
   ]
  },
  {
   "cell_type": "code",
   "execution_count": null,
   "metadata": {},
   "outputs": [],
   "source": [
    "ev_df = ev_df[ev_df['election_name'].str.strip().isin(relevant_elections)]\n",
    "ed_df = ed_df[ed_df['election_name'].str.strip().isin(relevant_elections)]"
   ]
  },
  {
   "cell_type": "code",
   "execution_count": null,
   "metadata": {},
   "outputs": [],
   "source": [
    "ev_df['timing'] = 'EV'\n",
    "ed_df['timing'] = 'ED'\n",
    "ed_df['VOTING_METHOD'] = 'IN-PERSON'"
   ]
  },
  {
   "cell_type": "code",
   "execution_count": null,
   "metadata": {},
   "outputs": [],
   "source": [
    "ev_df.head()"
   ]
  },
  {
   "cell_type": "code",
   "execution_count": null,
   "metadata": {},
   "outputs": [],
   "source": [
    "ed_df.head()"
   ]
  },
  {
   "cell_type": "code",
   "execution_count": null,
   "metadata": {},
   "outputs": [],
   "source": [
    "df = pd.concat([ev_df, ed_df])[['COUNTY', 'VOTING_METHOD', 'PRECINCT', 'date', 'election_id', 'election_name', 'timing', 'VOTER COUNT']] \\\n",
    "        .groupby(['COUNTY', 'VOTING_METHOD', 'PRECINCT', 'election_id', 'election_name', 'timing']) \\\n",
    "        .agg({\n",
    "            'date': 'max',\n",
    "            'VOTER COUNT': 'sum'\n",
    "        }).reset_index()"
   ]
  },
  {
   "cell_type": "code",
   "execution_count": null,
   "metadata": {},
   "outputs": [],
   "source": [
    "counties = [\n",
    "    'collin',\n",
    "    'dallas',\n",
    "    'denton',\n",
    "    'ellis',\n",
    "    'hopkins',\n",
    "    'hunt',\n",
    "    'johnson',\n",
    "    'kaufman',\n",
    "    'rockwall',\n",
    "    'tarrant'\n",
    "]"
   ]
  },
  {
   "cell_type": "code",
   "execution_count": null,
   "metadata": {},
   "outputs": [],
   "source": [
    "dfw_df = df[df['COUNTY'].str.lower().isin(counties)]"
   ]
  },
  {
   "cell_type": "code",
   "execution_count": null,
   "metadata": {},
   "outputs": [],
   "source": [
    "voters_df = pd.read_csv(os.path.join('data', 'registration', 'voter_records_full.csv'), sep = chr(29), low_memory = False)"
   ]
  },
  {
   "cell_type": "code",
   "execution_count": null,
   "metadata": {},
   "outputs": [],
   "source": [
    "voters_df['status_code'].unique()"
   ]
  },
  {
   "cell_type": "code",
   "execution_count": null,
   "metadata": {},
   "outputs": [],
   "source": [
    "dfw_voters_df = voters_df[voters_df['county'].str.lower().isin(counties)]"
   ]
  },
  {
   "cell_type": "code",
   "execution_count": null,
   "metadata": {},
   "outputs": [],
   "source": [
    "dfw_n_voters_df = dfw_voters_df[['county', 'precinct', 'edr']].groupby(['county', 'precinct', 'edr']).size().reset_index().rename(columns = {0: 'registered voters'})"
   ]
  },
  {
   "cell_type": "code",
   "execution_count": null,
   "metadata": {},
   "outputs": [],
   "source": [
    "dfw_n_voters_df['county'] = dfw_n_voters_df['county'].str.upper()"
   ]
  },
  {
   "cell_type": "code",
   "execution_count": null,
   "metadata": {},
   "outputs": [],
   "source": [
    "dfw_n_voters_df[(dfw_n_voters_df['edr'] <= '2022-01-01') & (dfw_n_voters_df['county'] == 'COLLIN')]['registered voters'].sum()"
   ]
  },
  {
   "cell_type": "code",
   "execution_count": null,
   "metadata": {},
   "outputs": [],
   "source": [
    "# print(dfw_voters_df_group[(dfw_voters_df_group['edr'] <= '2020-12-31') & (dfw_voters_df_group['county'] == 'COLLIN')]['registered voters'].sum())\n",
    "\n",
    "# dfw_df.loc[:,'voters'] = pd.NA\n",
    "\n",
    "# for _, row in dfw_df.iterrows():\n",
    "#     voters = dfw_voters_df_group[(dfw_voters_df_group['edr'] <= row['date']) & (dfw_voters_df_group['county'] == row['COUNTY'])]['registered voters'].sum()\n",
    "#     print(row['COUNTY'], row['date'], voters)"
   ]
  },
  {
   "cell_type": "code",
   "execution_count": null,
   "metadata": {},
   "outputs": [],
   "source": [
    "turnout_precinct_dfw_df = dfw_df[['COUNTY', 'PRECINCT', 'VOTER COUNT', 'election_name', 'timing']].groupby(['COUNTY', 'PRECINCT', 'timing', 'election_name']).agg({\n",
    "    'VOTER COUNT': 'sum'\n",
    "}).reset_index()"
   ]
  },
  {
   "cell_type": "code",
   "execution_count": null,
   "metadata": {},
   "outputs": [],
   "source": [
    "turnout_precinct_dfw_df.set_index(['COUNTY', 'PRECINCT']).to_csv('turnout_precinct_dfw.csv')"
   ]
  },
  {
   "cell_type": "code",
   "execution_count": null,
   "metadata": {},
   "outputs": [],
   "source": [
    "turnout_county_dfw_df = dfw_df[['COUNTY', 'VOTER COUNT', 'election_name', 'timing']].groupby(['COUNTY', 'timing', 'election_name']).agg({\n",
    "    'VOTER COUNT': 'sum'\n",
    "}).reset_index()"
   ]
  },
  {
   "cell_type": "code",
   "execution_count": null,
   "metadata": {},
   "outputs": [],
   "source": [
    "turnout_county_dfw_df.set_index('COUNTY').to_csv('turnout_county_dfw.csv')"
   ]
  },
  {
   "cell_type": "code",
   "execution_count": null,
   "metadata": {},
   "outputs": [],
   "source": []
  }
 ],
 "metadata": {
  "kernelspec": {
   "display_name": ".venv",
   "language": "python",
   "name": "python3"
  },
  "language_info": {
   "codemirror_mode": {
    "name": "ipython",
    "version": 3
   },
   "file_extension": ".py",
   "mimetype": "text/x-python",
   "name": "python",
   "nbconvert_exporter": "python",
   "pygments_lexer": "ipython3",
   "version": "3.12.2"
  }
 },
 "nbformat": 4,
 "nbformat_minor": 2
}
